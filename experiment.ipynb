{
 "cells": [
  {
   "cell_type": "markdown",
   "metadata": {},
   "source": [
    "Testing label flipping attack "
   ]
  },
  {
   "cell_type": "code",
   "execution_count": null,
   "metadata": {
    "is_executing": true
   },
   "outputs": [],
   "source": [
    "## Label Flipping with attack ratio \n",
    "\n",
    "from typing import Any\n",
    "from dataset import get_mnist, prepare_dataset\n",
    "from attacks import label_flipping_attack \n",
    "from torch.utils.data import RandomSampler, DataLoader, Subset\n",
    "\n",
    "trainset, _ = get_mnist()\n",
    "\n",
    "sample = Subset(trainset, [i for i in range(20)])\n",
    "print(sample.__len__())\n",
    "\n",
    "print([sample.__getitem__(i)[1] for i in range(20)])\n",
    "\n",
    "sample = label_flipping_attack(dataset= sample, num_classes=10)\n",
    "print([sample.__getitem__(i)[1] for i in range(20)])\n"
   ]
  },
  {
   "cell_type": "markdown",
   "metadata": {},
   "source": [
    "The following code demonstrates how to reshape data for logistic regression "
   ]
  },
  {
   "cell_type": "code",
   "execution_count": null,
   "metadata": {},
   "outputs": [],
   "source": [
    "## Label Flipping with attack ratio \n",
    "\n",
    "from typing import Any\n",
    "from dataset import get_mnist, prepare_dataset\n",
    "from attacks import label_flipping_attack \n",
    "from torch.utils.data import RandomSampler, DataLoader, Subset\n",
    "import numpy as np\n",
    "\n",
    "trainset, _ = get_mnist()\n",
    "\n",
    "sample = Subset(trainset, [i for i in range(200)])\n",
    "# print(sample.__len__())\n",
    "\n",
    "# print([sample.__getitem__(i)[1] for i in range(20)])\n",
    "\n",
    "# sample = label_flipping_attack(dataset= sample, num_classes=10)\n",
    "# print([sample.__getitem__(i)[1] for i in range(20)])\n",
    "# trainset.data\n",
    "# sample\n",
    "trainloader = DataLoader(sample, batch_size=20, shuffle=True, num_workers=2)\n",
    "data_list = []\n",
    "labels_list = []\n",
    "\n",
    "for batch_data, batch_labels in trainloader:\n",
    "    batch_data_flat = batch_data.view(batch_data.size(0), -1)\n",
    "    data_list.append(batch_data_flat.numpy())  # Assuming your data is in tensor format\n",
    "    labels_list.append(batch_labels.numpy())\n",
    "\n",
    "# Concatenate the lists to obtain NumPy arrays\n",
    "X = np.concatenate(data_list, axis=0)\n",
    "y = np.concatenate(labels_list, axis=0)\n",
    "print(X[0].shape)\n",
    "print(y[0].shape)\n",
    "print(type(X), type(y))"
   ]
  },
  {
   "cell_type": "markdown",
   "metadata": {},
   "source": [
    "Getting the GAN images to look like original dataset "
   ]
  },
  {
   "cell_type": "code",
   "execution_count": null,
   "metadata": {},
   "outputs": [],
   "source": [
    "from dataset import get_mnist\n",
    "from torch.utils.data import RandomSampler, DataLoader, Subset\n",
    "import torch\n",
    "import numpy as np\n",
    "\n",
    "trainset, _ = get_mnist()\n",
    "for idx, (image, label) in enumerate(trainset):\n",
    "    # trainset[idx] = (torch.empty(1,28,28), 2)\n",
    "    break\n",
    "trainset[0][0]"
   ]
  },
  {
   "cell_type": "code",
   "execution_count": null,
   "metadata": {},
   "outputs": [],
   "source": [
    "trainset.targets.bincount().tolist()\n",
    "# mapping = {0:8, 8:0, 1:7, 7:1, 6:9, 9:7}\n",
    "# print(mapping.keys())"
   ]
  },
  {
   "cell_type": "markdown",
   "metadata": {},
   "source": [
    "Distribution of samples across class labels"
   ]
  },
  {
   "cell_type": "code",
   "execution_count": null,
   "metadata": {},
   "outputs": [],
   "source": [
    "## Label Flipping with attack ratio \n",
    "\n",
    "from typing import Any\n",
    "from dataset import get_mnist, prepare_dataset\n",
    "from attacks import label_flipping_attack, gan_attack\n",
    "from torch.utils.data import RandomSampler, DataLoader, Subset\n",
    "\n",
    "def get_label_counts(sample: Subset) -> dict: \n",
    "    subset_indices = sample.indices\n",
    "    label_counts = {}\n",
    "    for idx in subset_indices:\n",
    "        label = sample.dataset.targets[idx]  # Get the label from the original dataset\n",
    "        if int(label) not in label_counts:\n",
    "            label_counts[int(label)] = 1  # Initialize count to 1 if label is not in dictionary\n",
    "        else:\n",
    "            label_counts[int(label)] += 1  # Increment count if label is already in dictionary\n",
    "    return label_counts\n",
    "\n",
    "traindatasets_new, _, _ = prepare_dataset(50)\n",
    "trainset = traindatasets_new[0]\n",
    "\n",
    "\n",
    "# sample = Subset(trainset, [i for i in range(20)])\n",
    "# print(sample.__len__())\n",
    "\n",
    "# print([sample.__getitem__(i)[1] for i in range(20)])\n",
    "\n",
    "# # sample = label_flipping_attack(dataset= sample, num_classes=10)\n",
    "# # print([sample.__getitem__(i)[1] for i in range(20)])\n",
    "get_label_counts(sample=trainset.dataset)\n",
    "trainset = gan_attack(trainset=trainset, attack_ratio=1.0)\n",
    "trainloader = DataLoader(trainset, batch_size=20, shuffle=True, num_workers=2)\n",
    "for images, labels in trainloader:\n",
    "    print(images)"
   ]
  },
  {
   "cell_type": "code",
   "execution_count": null,
   "metadata": {},
   "outputs": [],
   "source": [
    "set_A = {i for i in range(10)}\n",
    "b = {1: 600, 2: 300}\n",
    "\n",
    "set_A.difference(b)"
   ]
  },
  {
   "cell_type": "code",
   "execution_count": null,
   "metadata": {},
   "outputs": [],
   "source": [
    "from client import FlowerClientRNN\n",
    "fl = FlowerClientRNN(None, None, 10)\n",
    "# for item in fl.get_parameters(None):\n",
    "#     print(item.shape)\n",
    "\n",
    "# from client import RNNModel\n",
    "# rnn = RNNModel(10)\n",
    "# rnn.state_dict().keys()\n",
    "fl.get_parameters(None)\n"
   ]
  },
  {
   "cell_type": "code",
   "execution_count": null,
   "metadata": {},
   "outputs": [],
   "source": [
    "from model import RNNModel\n",
    "rnn = RNNModel(10)\n",
    "type(rnn.state_dict())"
   ]
  },
  {
   "cell_type": "code",
   "execution_count": null,
   "metadata": {},
   "outputs": [],
   "source": [
    "# MPAF attack unit testcase \n",
    "from attacks import mpaf_attack_sklearn\n",
    "import numpy as np \n",
    "num_classes, num_features = 10, 28*28  \n",
    "params = [np.zeros((num_classes, num_features)), np.zeros((num_classes,))] \n",
    "mpaf_attack_sklearn(params)"
   ]
  },
  {
   "cell_type": "code",
   "execution_count": null,
   "metadata": {},
   "outputs": [],
   "source": [
    "attack_ratio = 0.25 \n",
    "experiment_config = [(\"FULL\", 0), (\"FULL\", attack_ratio), (\"MID\", attack_ratio), (\"END\", attack_ratio)]\n",
    "for (mode, ratio) in experiment_config: \n",
    "    print(mode, ratio)"
   ]
  },
  {
   "cell_type": "code",
   "execution_count": 1,
   "metadata": {},
   "outputs": [
    {
     "name": "stdout",
     "output_type": "stream",
     "text": [
      "{'model': 'MLP', 'num_rounds': 10, 'num_clients': 10, 'num_classes': 10, 'num_clients_per_round_fit': 10, 'num_clients_per_round_eval': 10, 'max_attack_ratio': 0.5, 'attack_round': 'END', 'attack_type': 'MPAF', 'config_fit': {'lr': 0.003, 'local_epochs': 1, 'batch_size': 20}}\n",
      "{'model': 'MLP', 'num_rounds': 10, 'num_clients': 10, 'num_classes': 10, 'num_clients_per_round_fit': 10, 'num_clients_per_round_eval': 10, 'max_attack_ratio': 0.5, 'attack_round': 'END', 'attack_type': 'MPAF', 'config_fit': {'lr': 0.003, 'local_epochs': 1, 'batch_size': 20}}\n"
     ]
    }
   ],
   "source": [
    "from hydra import compose, initialize\n",
    "from omegaconf import OmegaConf\n",
    "from hydra.core.hydra_config import HydraConfig\n",
    "\n",
    "\n",
    "# with initialize(version_base=None, config_path=\"conf\", job_name=\"test_app\"):\n",
    "#     cfg = compose(config_name=\"mlp\", overrides=[\"db=mysql\", \"db.user=me\"])\n",
    "#     print(OmegaConf.to_yaml(cfg))\n",
    "\n",
    "# global initialization\n",
    "def run():\n",
    "    with initialize(version_base=None, config_path=\"conf\", job_name=\"test_app\") as k:\n",
    "        cfg = compose(config_name=\"mlp\")\n",
    "    print(cfg)\n",
    "\n",
    "run()\n",
    "run()\n"
   ]
  },
  {
   "cell_type": "code",
   "execution_count": 3,
   "metadata": {},
   "outputs": [
    {
     "data": {
      "text/plain": [
       "{'history': History (loss, centralized):\n",
       " \tround 0: 182.1255965232849\n",
       " \tround 1: 87.907441675663\n",
       " \tround 2: 36.64324514567852\n",
       " \tround 3: 21.16878753527999\n",
       " \tround 4: 15.817663345485926\n",
       " \tround 5: 12.708879759535193\n",
       " \tround 6: 10.999593370594084\n",
       " \tround 7: 10.362133104819804\n",
       " \tround 8: 9.201727869338356\n",
       " \tround 9: 8.451022133929655\n",
       " \tround 10: 7.752313892822713\n",
       " History (metrics, centralized):\n",
       " {'accuracy': [(0, 0.1083), (1, 0.7249), (2, 0.8754), (3, 0.9198), (4, 0.9407), (5, 0.9521), (6, 0.9567), (7, 0.9598), (8, 0.9636), (9, 0.9663), (10, 0.9701)], 'precision': [(0, 0.034601286130607964), (1, 0.7456449650785923), (2, 0.876353633760462), (3, 0.9211800346330808), (4, 0.9408267110298916), (5, 0.9521279268812861), (6, 0.9568603531481996), (7, 0.9599039344215998), (8, 0.9637379409497715), (9, 0.9663295187311991), (10, 0.9702292703747085)], 'recall': [(0, 0.1083), (1, 0.7249), (2, 0.8754), (3, 0.9198), (4, 0.9407), (5, 0.9521), (6, 0.9567), (7, 0.9598), (8, 0.9636), (9, 0.9663), (10, 0.9701)], 'f1': [(0, 0.04974219379322301), (1, 0.7083447366153994), (2, 0.8742349028784528), (3, 0.9192558464914958), (4, 0.9404918361374436), (5, 0.9520024809592409), (6, 0.9566958077117131), (7, 0.9597729090721859), (8, 0.9635878017112833), (9, 0.9662541332027942), (10, 0.9701032917981743)], 'confusion_matrix': [(0, array([[   0,    0,    0,  637,    2,    0,  282,   29,   30,    0],\n",
       "        [   0,    0,    0,    1,    0,    0,   88,   14, 1032,    0],\n",
       "        [   0,    0,    0,  190,    2,    0,  605,   28,  207,    0],\n",
       "        [   0,    0,    0,  272,    0,    0,  574,   83,   81,    0],\n",
       "        [   0,    0,    0,   77,    0,    0,  479,  102,  324,    0],\n",
       "        [   0,    0,    0,  183,    0,    0,  500,   91,  118,    0],\n",
       "        [   0,    0,    0,  133,    0,    0,  715,   85,   25,    0],\n",
       "        [   0,    0,    0,   87,    0,    0,  288,    8,  645,    0],\n",
       "        [   0,    0,    0,   82,    0,    0,  541,  263,   88,    0],\n",
       "        [   0,    0,    0,   67,    0,    0,  625,   67,  250,    0]],\n",
       "       dtype=int64)), (1, array([[ 945,    0,    1,    3,    3,    8,   12,    2,    6,    0],\n",
       "        [   0, 1087,    0,    2,    4,    1,    5,    3,   25,    8],\n",
       "        [  16,   38,  559,   21,   80,    6,  172,   44,   96,    0],\n",
       "        [  14,   17,   15,  804,   22,   15,   14,   60,   23,   26],\n",
       "        [   2,    3,    1,    0,  904,    0,   16,    3,    7,   46],\n",
       "        [ 229,   16,    0,  146,   18,  281,   59,   45,   72,   26],\n",
       "        [  27,    7,   10,    4,   56,    8,  830,    1,   15,    0],\n",
       "        [   8,   43,   11,    0,   52,    0,    0,  896,    8,   10],\n",
       "        [  17,   49,   18,   55,  102,   21,   58,   74,  512,   68],\n",
       "        [  15,   14,    0,   13,  416,    3,    4,  111,    2,  431]],\n",
       "       dtype=int64)), (2, array([[ 927,    0,    1,    2,    2,   20,   20,    5,    3,    0],\n",
       "        [   0, 1121,    4,    2,    0,    0,    4,    0,    3,    1],\n",
       "        [  14,    4,  907,   18,   21,    1,   23,   32,   11,    1],\n",
       "        [   6,    8,   33,  844,    2,   42,    3,   38,   17,   17],\n",
       "        [   0,    4,    4,    0,  864,    0,   18,    0,    3,   89],\n",
       "        [  15,    6,    5,   29,   16,  718,   29,   18,   35,   21],\n",
       "        [  14,    4,   13,    1,   13,   15,  896,    1,    1,    0],\n",
       "        [   1,   26,   16,    2,    1,    0,    0,  945,    2,   35],\n",
       "        [   1,   51,   13,   21,   23,   47,   38,   29,  707,   44],\n",
       "        [  10,   15,    5,    8,   81,   10,    1,   49,    5,  825]],\n",
       "       dtype=int64)), (3, array([[ 956,    0,    3,    0,    1,    2,   13,    1,    4,    0],\n",
       "        [   0, 1119,    5,    3,    0,    0,    4,    0,    3,    1],\n",
       "        [  16,    0,  959,   10,   11,    0,   11,   13,   12,    0],\n",
       "        [   7,    2,   31,  920,    1,    8,    3,   19,   15,    4],\n",
       "        [   0,    1,    3,    0,  951,    0,   11,    0,    4,   12],\n",
       "        [  19,    2,    2,   36,   10,  732,   27,    5,   51,    8],\n",
       "        [  19,    2,    5,    0,   11,    5,  914,    0,    2,    0],\n",
       "        [   2,   12,   41,    1,    1,    0,    0,  939,    3,   29],\n",
       "        [   6,    6,   17,   10,   14,    7,   19,   16,  869,   10],\n",
       "        [  14,    5,   13,    8,   97,    8,    0,   16,    9,  839]],\n",
       "       dtype=int64)), (4, array([[ 956,    0,    1,    0,    1,    2,   12,    2,    6,    0],\n",
       "        [   0, 1122,    4,    2,    0,    0,    4,    0,    2,    1],\n",
       "        [  15,    1,  964,   12,    8,    0,    8,   15,    9,    0],\n",
       "        [   2,    1,   17,  939,    0,   18,    2,   19,    7,    5],\n",
       "        [   0,    2,    3,    0,  949,    0,   11,    0,    4,   13],\n",
       "        [   6,    3,    0,   18,    6,  838,    8,    3,    6,    4],\n",
       "        [  14,    2,    4,    1,   12,    8,  916,    0,    1,    0],\n",
       "        [   2,   10,   21,    2,    2,    0,    0,  960,    2,   29],\n",
       "        [   5,    7,    9,   11,   12,   22,   11,   12,  861,   24],\n",
       "        [  11,    8,    5,    5,   48,   14,    0,   11,    5,  902]],\n",
       "       dtype=int64)), (5, array([[ 964,    0,    2,    0,    0,    2,    6,    2,    4,    0],\n",
       "        [   0, 1120,    4,    2,    0,    0,    4,    0,    4,    1],\n",
       "        [  13,    1,  980,   10,    3,    0,    8,   11,    5,    1],\n",
       "        [   1,    0,   17,  952,    2,   16,    0,   13,    7,    2],\n",
       "        [   0,    1,    3,    0,  941,    0,   11,    0,    4,   22],\n",
       "        [   5,    1,    0,   15,    1,  851,    6,    2,    8,    3],\n",
       "        [  15,    3,    2,    0,    9,    5,  921,    0,    3,    0],\n",
       "        [   2,    9,   21,    4,    2,    2,    0,  972,    1,   15],\n",
       "        [   7,    3,   16,    9,    8,   11,    7,   10,  881,   22],\n",
       "        [   8,    6,    4,    5,   17,   14,    0,   10,    6,  939]],\n",
       "       dtype=int64)), (6, array([[ 968,    1,    2,    0,    0,    1,    4,    1,    3,    0],\n",
       "        [   0, 1116,    4,    2,    0,    0,    5,    0,    7,    1],\n",
       "        [  13,    0,  984,    9,    2,    0,    7,   11,    5,    1],\n",
       "        [   1,    0,   15,  965,    2,    6,    0,   11,    8,    2],\n",
       "        [   0,    0,    4,    0,  932,    0,    9,    0,    4,   33],\n",
       "        [   5,    0,    1,   19,    0,  845,    5,    2,   12,    3],\n",
       "        [  13,    3,    0,    0,    8,    5,  925,    0,    4,    0],\n",
       "        [   2,    7,   21,    1,    1,    0,    0,  972,    2,   22],\n",
       "        [   7,    1,   10,    9,    5,    8,    4,    9,  904,   17],\n",
       "        [   8,    4,    2,    5,    9,   10,    0,    7,    8,  956]],\n",
       "       dtype=int64)), (7, array([[ 966,    1,    2,    0,    0,    1,    6,    1,    3,    0],\n",
       "        [   0, 1120,    4,    2,    0,    1,    3,    0,    5,    0],\n",
       "        [  13,    2,  979,   10,    2,    0,    7,   10,    9,    0],\n",
       "        [   2,    0,   10,  965,    2,   13,    0,    8,    8,    2],\n",
       "        [   0,    1,    3,    0,  939,    0,   11,    0,    4,   24],\n",
       "        [   9,    0,    0,   13,    0,  851,    6,    2,    9,    2],\n",
       "        [  11,    3,    0,    0,    5,    5,  931,    0,    3,    0],\n",
       "        [   2,    9,   20,    5,    1,    1,    0,  967,    6,   17],\n",
       "        [   7,    0,    4,    7,    3,    5,    6,    5,  930,    7],\n",
       "        [   9,    5,    0,    5,   10,   13,    0,    6,   11,  950]],\n",
       "       dtype=int64)), (8, array([[ 968,    1,    2,    0,    0,    1,    3,    1,    3,    1],\n",
       "        [   0, 1117,    5,    2,    0,    0,    3,    3,    5,    0],\n",
       "        [  10,    0,  991,    7,    0,    0,    6,   13,    5,    0],\n",
       "        [   1,    0,    9,  960,    2,   15,    0,   14,    8,    1],\n",
       "        [   0,    0,    4,    0,  942,    0,   10,    1,    4,   21],\n",
       "        [   7,    0,    0,   10,    1,  858,    6,    2,    6,    2],\n",
       "        [  14,    3,    0,    1,    5,    4,  928,    0,    3,    0],\n",
       "        [   2,    5,   14,    0,    1,    0,    0,  999,    1,    6],\n",
       "        [   8,    0,    7,    7,    3,    7,    6,   10,  916,   10],\n",
       "        [   7,    4,    0,    5,    6,    8,    0,   14,    8,  957]],\n",
       "       dtype=int64)), (9, array([[ 965,    1,    2,    0,    0,    1,    7,    1,    3,    0],\n",
       "        [   0, 1120,    4,    2,    0,    0,    3,    0,    5,    1],\n",
       "        [   9,    1,  998,    4,    1,    0,    4,   10,    5,    0],\n",
       "        [   1,    0,   11,  967,    1,   11,    0,   11,    7,    1],\n",
       "        [   0,    1,    4,    0,  958,    0,    7,    0,    2,   10],\n",
       "        [   5,    0,    0,   13,    1,  862,    4,    2,    3,    2],\n",
       "        [   7,    3,    0,    0,    5,    3,  939,    0,    1,    0],\n",
       "        [   2,    6,   18,    2,    2,    0,    0,  982,    1,   15],\n",
       "        [   7,    1,    7,    7,    6,    7,    5,    6,  907,   21],\n",
       "        [   7,    5,    1,    4,   11,    6,    0,    7,    3,  965]],\n",
       "       dtype=int64)), (10, array([[ 966,    1,    2,    0,    0,    2,    4,    1,    3,    1],\n",
       "        [   0, 1115,    4,    2,    0,    0,    3,    3,    8,    0],\n",
       "        [   4,    0, 1013,    2,    2,    0,    4,    4,    3,    0],\n",
       "        [   1,    0,   10,  966,    1,   10,    0,   10,   10,    2],\n",
       "        [   0,    1,    4,    0,  945,    0,    7,    1,    4,   20],\n",
       "        [   4,    0,    0,    7,    1,  868,    3,    2,    5,    2],\n",
       "        [   8,    3,    0,    1,    5,    2,  936,    0,    3,    0],\n",
       "        [   2,    4,   25,    2,    1,    0,    0,  984,    2,    8],\n",
       "        [   6,    0,    6,    2,    4,    3,    2,    4,  940,    7],\n",
       "        [   8,    4,    0,    4,    5,    7,    0,    7,    6,  968]],\n",
       "       dtype=int64))]},\n",
       " 'config': {'model': 'SCNN', 'attack_mode': 'FULL', 'attack_ratio': 0.0}}"
      ]
     },
     "execution_count": 3,
     "metadata": {},
     "output_type": "execute_result"
    }
   ],
   "source": [
    "import pickle\n",
    "history = pickle.load(open(\"results/LF/SCNN_FULL_0.pkl\",'rb'))\n",
    "history"
   ]
  }
 ],
 "metadata": {
  "kernelspec": {
   "display_name": "flower",
   "language": "python",
   "name": "python3"
  },
  "language_info": {
   "codemirror_mode": {
    "name": "ipython",
    "version": 3
   },
   "file_extension": ".py",
   "mimetype": "text/x-python",
   "name": "python",
   "nbconvert_exporter": "python",
   "pygments_lexer": "ipython3",
   "version": "3.8.18"
  }
 },
 "nbformat": 4,
 "nbformat_minor": 2
}
