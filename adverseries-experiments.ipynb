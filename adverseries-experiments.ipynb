{
 "cells": [
  {
   "cell_type": "code",
   "execution_count": null,
   "metadata": {},
   "outputs": [],
   "source": [
    "from run import run, getOutputFileName\n",
    "import os \n",
    "from hydra import compose, initialize\n",
    "from omegaconf import OmegaConf\n",
    "import logging \n",
    "import json\n",
    "import pickle\n",
    "\n",
    "def run_all_experiments_for_attack(attack_name: str, output_dir: str, attack_ratio=0.25, defence=False):\n",
    "    if not os.path.exists(output_dir):\n",
    "        os.makedirs(output_dir)\n",
    "        print(f\"Created directory: {output_dir}\")\n",
    "    results_path = output_dir + attack_name + \"/\"\n",
    "    if not os.path.exists(results_path): \n",
    "        os.makedirs(results_path)\n",
    "        print(f\"Created directory {results_path}\")\n",
    "    logging.basicConfig(filename=output_dir+\"experiment_errors.log\", level=logging.DEBUG, format='%(asctime)s - %(levelname)s: %(message)s')\n",
    "    new_configs_path =output_dir+\"runconfigs/\"\n",
    "    if os.path.exists(new_configs_path):\n",
    "        os.rmdir(new_configs_path)\n",
    "    os.makedirs(new_configs_path)\n",
    "\n",
    "    for model_file in [\"rnn\"]: #\"base\", \"mlp\", \"lgr\", \"lsvc\", \"xgb_bagging\", \"rf\", \"lstm\", rnn\n",
    "        with initialize(version_base=None, config_path=\"conf\", job_name=\"test_app\"):\n",
    "            cfg = compose(config_name=model_file)\n",
    "        num_clients_per_model = {\n",
    "            \"SCNN\": 100, \n",
    "            \"MLP\": 100,\n",
    "            \"LGR\": 100, \n",
    "            \"LSVC\": 100, \n",
    "            \"LSTM\": 50,\n",
    "            \"RNN\": 50, \n",
    "            \"RF\": 50,\n",
    "            \"XGB\": 50 \n",
    "        }\n",
    "        experiment_config = [(\"END\", attack_ratio)] #(\"FULL\", 0), , (\"MID\", attack_ratio), , (\"END\", attack_ratio)(\"FULL\", 0), (\"FULL\", attack_ratio), (\"MID\", attack_ratio), \n",
    "        model = cfg.model\n",
    "        print(\"Running\", attack_name, \"on\", model)\n",
    "        cfg.num_clients, cfg.num_clients_per_round_fit = num_clients_per_model[model], num_clients_per_model[model]\n",
    "        cfg.attack_type=attack_name\n",
    "        cfg.defence = defence\n",
    "        if(defence):\n",
    "            print(\"-----------------------------OUTLIER DETECTION ENABLED-------------------------------------\")\n",
    "        for (attack_round, ratio) in experiment_config: \n",
    "            cfg.max_attack_ratio = ratio \n",
    "            cfg.attack_round = attack_round\n",
    "            try:\n",
    "                config_file_name = f\"{model}_{attack_name}_{attack_round}_{ratio*100}\"\n",
    "                OmegaConf.save(config=cfg, f=new_configs_path+config_file_name+\".yaml\") \n",
    "                results = run(config_path=new_configs_path, config_name=config_file_name)\n",
    "                with open(results_path+getOutputFileName(model=model, attack_round=attack_round, attack_ratio=ratio), \"wb\") as h: \n",
    "                    pickle.dump(results, h, protocol=pickle.HIGHEST_PROTOCOL)\n",
    "                    \n",
    "            except Exception as e: \n",
    "                error_message = {\"attack_name\":attack_name, \"model\":model, \"error\":str(e)}\n",
    "                error_message = json.dumps(error_message)\n",
    "                logging.error(error_message)\n",
    "                logging.log\n",
    "    for handler in logging.root.handlers[:]:\n",
    "        handler.close()"
   ]
  },
  {
   "cell_type": "code",
   "execution_count": null,
   "metadata": {},
   "outputs": [],
   "source": [
    "run_all_experiments_for_attack(attack_name=\"LF\", output_dir=\"runsrnn1/\")"
   ]
  },
  {
   "cell_type": "code",
   "execution_count": null,
   "metadata": {},
   "outputs": [],
   "source": [
    "run_all_experiments_for_attack(attack_name=\"MPAF\", output_dir=\"runslstm3/\")"
   ]
  },
  {
   "cell_type": "code",
   "execution_count": null,
   "metadata": {},
   "outputs": [],
   "source": [
    "run_all_experiments_for_attack(attack_name=\"MPAF\", output_dir=\"runslstm3/\")"
   ]
  }
 ],
 "metadata": {
  "kernelspec": {
   "display_name": "flower_new",
   "language": "python",
   "name": "python3"
  },
  "language_info": {
   "codemirror_mode": {
    "name": "ipython",
    "version": 3
   },
   "file_extension": ".py",
   "mimetype": "text/x-python",
   "name": "python",
   "nbconvert_exporter": "python",
   "pygments_lexer": "ipython3",
   "version": "3.8.18"
  }
 },
 "nbformat": 4,
 "nbformat_minor": 2
}
